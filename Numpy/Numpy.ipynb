{
 "cells": [
  {
   "cell_type": "markdown",
   "id": "3e2dfe46672e556e",
   "metadata": {},
   "source": [
    "# Introduction to NumPy\n",
    "#### NumPy is a free, open-source Python library that supports large, multi-dimensional arrays.\n",
    "\n"
   ]
  },
  {
   "cell_type": "code",
   "execution_count": 2,
   "id": "1606a0c67915fc6b",
   "metadata": {
    "ExecuteTime": {
     "end_time": "2025-03-10T02:39:45.373027Z",
     "start_time": "2025-03-10T02:39:45.366930Z"
    }
   },
   "outputs": [],
   "source": [
    "import numpy as np\n",
    "from numpy.matlib import zeros\n",
    "import matplotlib.pyplot as plt"
   ]
  },
  {
   "cell_type": "markdown",
   "id": "1541fd840b216708",
   "metadata": {},
   "source": [
    "### Creating Array from List"
   ]
  },
  {
   "cell_type": "code",
   "execution_count": 2,
   "id": "ad0a177367513e87",
   "metadata": {
    "ExecuteTime": {
     "end_time": "2025-03-10T02:41:21.064058Z",
     "start_time": "2025-03-10T02:41:21.056731Z"
    }
   },
   "outputs": [
    {
     "name": "stdout",
     "output_type": "stream",
     "text": [
      "Array:  [ 1  2  3  4  5  6  7  8  9 10 11 12 13 14 15]\n"
     ]
    }
   ],
   "source": [
    "# Print the Single Dimensional Array.\n",
    "array=np.array([1,2,3,4,5,6,7,8,9,10,11,12,13,14,15])\n",
    "print(\"Array: \",array)"
   ]
  },
  {
   "cell_type": "code",
   "execution_count": 3,
   "id": "e8d1824eddfe799c",
   "metadata": {
    "ExecuteTime": {
     "end_time": "2025-03-10T02:43:30.883800Z",
     "start_time": "2025-03-10T02:43:30.879152Z"
    }
   },
   "outputs": [
    {
     "name": "stdout",
     "output_type": "stream",
     "text": [
      "2D Array:  [[ 1  2  3  4  5]\n",
      " [ 6  7  8  9 10]]\n"
     ]
    }
   ],
   "source": [
    "# Print 2 D Array.\n",
    "\n",
    "array=np.array([[1,2,3,4,5],[6,7,8,9,10]])\n",
    "print(\"2D Array: \",array)"
   ]
  },
  {
   "cell_type": "markdown",
   "id": "c380eefa0eea9bba",
   "metadata": {},
   "source": [
    "## List vs Numpy"
   ]
  },
  {
   "cell_type": "code",
   "execution_count": 4,
   "id": "e87f9007301c7624",
   "metadata": {
    "ExecuteTime": {
     "end_time": "2025-03-10T02:52:42.153056Z",
     "start_time": "2025-03-10T02:52:41.953806Z"
    }
   },
   "outputs": [
    {
     "name": "stdout",
     "output_type": "stream",
     "text": [
      "Python List Multiplication:  [1, 2, 3, 4, 5, 1, 2, 3, 4, 5]\n",
      "Python Array Multiplication:  [ 2  4  6  8 10]\n",
      "Time Taken:  0.12400579452514648\n",
      "Time Taken:  0.04206085205078125\n"
     ]
    }
   ],
   "source": [
    "# List Multiplication is return the [1, 2, 3, 4, 5, 1, 2, 3, 4, 5].\n",
    "list=[1,2,3,4,5]\n",
    "print(\"Python List Multiplication: \",list*2)\n",
    "\n",
    "# Array Multiplication is return the [ 2  4  6  8 10].\n",
    "array=np.array([1,2,3,4,5])\n",
    "print(\"Python Array Multiplication: \",array*2)    # Element Wise Multiplication.\n",
    "\n",
    "# Calculate the time to run the list in Numpy program.\n",
    "import time\n",
    "start=time.time()\n",
    "list=[i*2 for i in range(3040506)]\n",
    "end=time.time()\n",
    "print(\"Time Taken: \",end-start)\n",
    "\n",
    "# Calculate the time to run the Array in Numpy program.\n",
    "start=time.time()\n",
    "array=np.arange(18457578)*2\n",
    "end=time.time()\n",
    "print(\"Time Taken: \",end-start)"
   ]
  },
  {
   "cell_type": "markdown",
   "id": "265aa3b43967686f",
   "metadata": {},
   "source": [
    "### Creating Array from Scratch."
   ]
  },
  {
   "cell_type": "code",
   "execution_count": 5,
   "id": "a4883a480e63a1c5",
   "metadata": {
    "ExecuteTime": {
     "end_time": "2025-03-10T02:56:53.254041Z",
     "start_time": "2025-03-10T02:56:52.969746Z"
    }
   },
   "outputs": [
    {
     "name": "stdout",
     "output_type": "stream",
     "text": [
      "Zeros array:  [[0. 0. 0. 0.]\n",
      " [0. 0. 0. 0.]\n",
      " [0. 0. 0. 0.]]\n",
      "Ones array:  [[1. 1. 1. 1.]\n",
      " [1. 1. 1. 1.]\n",
      " [1. 1. 1. 1.]]\n",
      "Full array:  [[7 7 7]\n",
      " [7 7 7]]\n",
      "Random array:  [[0.92223839 0.54200723 0.55088421 0.45417218]\n",
      " [0.10142166 0.88637981 0.23233012 0.48047776]\n",
      " [0.83568208 0.30025594 0.39997105 0.49120269]]\n",
      "Sequence array:  [0 2 4 6 8]\n"
     ]
    }
   ],
   "source": [
    "# Zeros Array is define the All Number of Matrix is Zero.\n",
    "zeros=np.zeros((3,4))\n",
    "print(\"Zeros array: \",zeros)\n",
    "\n",
    "# Ones Array is define the all Number of Matrix is One.\n",
    "ones=np.ones((3,4))\n",
    "print(\"Ones array: \",ones)\n",
    "\n",
    "# Full Array is define the Custome Value.\n",
    "full=np.full((2,3),7)\n",
    "print(\"Full array: \",full)\n",
    "\n",
    "# Random is create the Random Number Matrix.\n",
    "random=np.random.random((3,4))\n",
    "print(\"Random array: \",random)\n",
    "\n",
    "# Sequence is create the matrix using starting and ending point and interval.\n",
    "sequence=np.arange(0,10,2)\n",
    "print(\"Sequence array: \",sequence)"
   ]
  },
  {
   "cell_type": "markdown",
   "id": "5c086e2b-5d6c-4932-b283-34742f8719b4",
   "metadata": {},
   "source": [
    "## Vector, Matrix and Tensor"
   ]
  },
  {
   "cell_type": "code",
   "execution_count": 7,
   "id": "867b8471-a45b-4412-99f5-44ee513a175e",
   "metadata": {},
   "outputs": [
    {
     "name": "stdout",
     "output_type": "stream",
     "text": [
      "Vector:  [1 2 3]\n",
      "Matrix:  [[1 2 3 4]\n",
      " [5 6 7 8]]\n",
      "Tensor:  [[[ 1  2  3]\n",
      "  [ 4  5  6]]\n",
      "\n",
      " [[ 7  8  9]\n",
      "  [10 11 12]]]\n"
     ]
    }
   ],
   "source": [
    "vector=np.array([1,2,3])\n",
    "print(\"Vector: \",vector)\n",
    "\n",
    "matrix=np.matrix([[1,2,3,4],[5,6,7,8]])\n",
    "print(\"Matrix: \",matrix)\n",
    "\n",
    "tensor=np.array([[[1,2,3],[4,5,6]],[[7,8,9],[10,11,12]]])\n",
    "print(\"Tensor: \",tensor)"
   ]
  },
  {
   "cell_type": "markdown",
   "id": "1329afef-2d59-4349-90cd-002c72a45115",
   "metadata": {},
   "source": [
    "## Array Propertiees"
   ]
  },
  {
   "cell_type": "code",
   "execution_count": 11,
   "id": "7692fb7b-a61a-4708-b43c-83bf1ac7594d",
   "metadata": {},
   "outputs": [
    {
     "name": "stdout",
     "output_type": "stream",
     "text": [
      "Array:  [[1 2 3]\n",
      " [4 5 6]]\n",
      "Array Shape:  (2, 3)\n",
      "Array Dimension:  2\n",
      "Array Size:  6\n",
      "Array Data Type:  int64\n"
     ]
    }
   ],
   "source": [
    "arr=np.array([[1,2,3],[4,5,6]])\n",
    "print(\"Array: \",arr)\n",
    "\n",
    "print(\"Array Shape: \",arr.shape)\n",
    "print(\"Array Dimension: \",arr.ndim)\n",
    "print(\"Array Size: \",arr.size)\n",
    "print(\"Array Data Type: \",arr.dtype)\n"
   ]
  },
  {
   "cell_type": "markdown",
   "id": "443402c4-5293-4727-b399-449fb0031799",
   "metadata": {},
   "source": [
    "## Array Reshaping"
   ]
  },
  {
   "cell_type": "code",
   "execution_count": 17,
   "id": "a41f56ba-bbf3-4d97-a19f-133fd2147be4",
   "metadata": {},
   "outputs": [
    {
     "name": "stdout",
     "output_type": "stream",
     "text": [
      "Original Array:  [ 0  1  2  3  4  5  6  7  8  9 10 11]\n",
      "Array Reshaped:  [[ 0  1  2  3]\n",
      " [ 4  5  6  7]\n",
      " [ 8  9 10 11]]\n",
      "Flatten Array:  [ 0  1  2  3  4  5  6  7  8  9 10 11]\n",
      "Ravelled Array:  [ 0  1  2  3  4  5  6  7  8  9 10 11]\n",
      "Transpposed Array:  [[ 0  4  8]\n",
      " [ 1  5  9]\n",
      " [ 2  6 10]\n",
      " [ 3  7 11]]\n"
     ]
    }
   ],
   "source": [
    "arr=np.arange(12)\n",
    "print(\"Original Array: \",arr)\n",
    "\n",
    "# Define the Shape of Array.\n",
    "reshape=arr.reshape((3,4))\n",
    "print(\"Array Reshaped: \",reshape)\n",
    "\n",
    "# Convert the Multi Dimensional Array Into Single Dimensional Array, and return the copy. \n",
    "flattened=reshape.flatten()\n",
    "print(\"Flatten Array: \",flattened)\n",
    "\n",
    "# Return the Original Array in Single Dimensional Forms.\n",
    "raveled=reshape.ravel()\n",
    "print(\"Ravelled Array: \",raveled)\n",
    "\n",
    "# The transpose of a matrix is a flipped version of the original matrix.\n",
    "# It's created by switching the rows and columns of the original matrix. \n",
    "transpose=reshape.T\n",
    "print(\"Transpposed Array: \",transpose)"
   ]
  },
  {
   "cell_type": "markdown",
   "id": "4143d476-9787-4f20-b195-d4b6e5dc7c0e",
   "metadata": {},
   "source": [
    "## Numpy Array Operation.\n",
    "### Indexing and Slicing"
   ]
  },
  {
   "cell_type": "code",
   "execution_count": 20,
   "id": "1a9c5c80-9ec3-4d4f-93f5-b47118014f38",
   "metadata": {},
   "outputs": [
    {
     "name": "stdout",
     "output_type": "stream",
     "text": [
      "Basic Slicing:  [3 4 5 6 7]\n",
      "With Step:  [2 4 6]\n",
      "Negative Indexing:  6\n"
     ]
    }
   ],
   "source": [
    "arr=np.array([1,2,3,4,5,6,7,8,9])\n",
    "print(\"Basic Slicing: \",arr[2:7])\n",
    "\n",
    "print(\"With Step: \",arr[1:7:2])\n",
    "\n",
    "print(\"Negative Indexing: \",arr[-4])\n"
   ]
  },
  {
   "cell_type": "code",
   "execution_count": 26,
   "id": "ffd3bf2f-0bdf-4dc3-9088-e37ee4c497a6",
   "metadata": {},
   "outputs": [
    {
     "name": "stdout",
     "output_type": "stream",
     "text": [
      "Specific Element:  6\n",
      "Entire Row:  [1 2 3]\n",
      "Entire Column:  [1 4 7]\n"
     ]
    }
   ],
   "source": [
    "arr=np.array([[1,2,3],[4,5,6],[7,8,9]])\n",
    "print(\"Specific Element: \",arr[1,2])\n",
    "print(\"Entire Row: \",arr[0])\n",
    "print(\"Entire Column: \",arr[:,0])"
   ]
  },
  {
   "cell_type": "markdown",
   "id": "8eb52a45-8fb5-4632-898c-d96c9d99d04d",
   "metadata": {},
   "source": [
    "### Sorting"
   ]
  },
  {
   "cell_type": "code",
   "execution_count": 31,
   "id": "f091b83f-6d4e-41a8-a877-dd192e001205",
   "metadata": {},
   "outputs": [
    {
     "name": "stdout",
     "output_type": "stream",
     "text": [
      "Unsorted Array:  [1 4 3 6 5 2 9 8 7]\n",
      "Sorted Array:  [1 2 3 4 5 6 7 8 9]\n",
      "Unsorted 2D Array:  [[3 1]\n",
      " [4 3]\n",
      " [2 3]]\n",
      "Sorted 2D Array by Column:  [[1 3]\n",
      " [3 4]\n",
      " [2 3]]\n"
     ]
    }
   ],
   "source": [
    "unsorted=np.array([1,4,3,6,5,2,9,8,7])\n",
    "print(\"Unsorted Array: \",unsorted)\n",
    "print(\"Sorted Array: \",np.sort(unsorted))\n",
    "\n",
    "arr_2d=np.array([[3,1],[4,3],[2,3]])\n",
    "print(\"Unsorted 2D Array: \",arr_2d)\n",
    "print(\"Sorted 2D Array by Column: \",np.sort(arr_2d, axis=1))"
   ]
  },
  {
   "cell_type": "markdown",
   "id": "e7eeae7f-f384-496f-bc13-50cf715a6576",
   "metadata": {},
   "source": [
    "### Filtering"
   ]
  },
  {
   "cell_type": "code",
   "execution_count": 32,
   "id": "15d07a64-0381-40f4-bcb3-9c7784336e57",
   "metadata": {},
   "outputs": [
    {
     "name": "stdout",
     "output_type": "stream",
     "text": [
      "Even Number:  [ 2  4  6  8 10]\n"
     ]
    }
   ],
   "source": [
    "number=np.array([1,2,3,4,5,6,7,8,9,10])\n",
    "even=number[number%2==0]\n",
    "print(\"Even Number: \",even)"
   ]
  },
  {
   "cell_type": "markdown",
   "id": "8a778745-1ef9-497e-a115-b5e3b31669db",
   "metadata": {},
   "source": [
    "### Filter With Mask"
   ]
  },
  {
   "cell_type": "code",
   "execution_count": 33,
   "id": "135ddc21-7c12-427a-b971-2013ad061b07",
   "metadata": {},
   "outputs": [
    {
     "name": "stdout",
     "output_type": "stream",
     "text": [
      "Numbers greater than 5:  [ 6  7  8  9 10]\n"
     ]
    }
   ],
   "source": [
    "mask=number>5\n",
    "print(\"Numbers greater than 5: \",number[mask])"
   ]
  },
  {
   "cell_type": "markdown",
   "id": "00972d78-f759-40ea-8938-17e37a8f6e02",
   "metadata": {},
   "source": [
    "### Fancy Indexing vs np.where()"
   ]
  },
  {
   "cell_type": "code",
   "execution_count": 36,
   "id": "866e2607-e918-459a-8cd7-00c523a4e789",
   "metadata": {},
   "outputs": [
    {
     "name": "stdout",
     "output_type": "stream",
     "text": [
      "[1 3 5 7]\n",
      "NP Where:  [ 6  7  8  9 10]\n",
      "[ 1  2  3  4  5 12 14 16 18 20]\n"
     ]
    }
   ],
   "source": [
    "indices=[0,2,4,6]\n",
    "print(number[indices])\n",
    "\n",
    "result=np.where(number>5)\n",
    "print(\"NP Where: \",number[result])\n",
    "\n",
    "condition_array=np.where(number>5,number*2,number)\n",
    "print(condition_array)"
   ]
  },
  {
   "cell_type": "markdown",
   "id": "f79b1864-548f-4373-a137-d0c06ac6140c",
   "metadata": {},
   "source": [
    "## Adding, Merging and Removing Value"
   ]
  },
  {
   "cell_type": "code",
   "execution_count": 41,
   "id": "bc8c1b3c-a43d-46d3-8125-8ecdfd33f9c1",
   "metadata": {},
   "outputs": [
    {
     "name": "stdout",
     "output_type": "stream",
     "text": [
      "[ 6  8 10 12]\n",
      "Combined Array:  [1 2 3 4 5 6 7 8]\n"
     ]
    }
   ],
   "source": [
    "arr1=np.array([1,2,3,4])\n",
    "arr2=np.array([5,6,7,8])\n",
    "\n",
    "# Add the two array Value and Create a Single array and Store them.\n",
    "merge=arr1+arr2\n",
    "print(merge)\n",
    "\n",
    "# Merge the two Array.\n",
    "merge=np.concatenate((arr1,arr2))\n",
    "print(\"Combined Array: \",merge)"
   ]
  },
  {
   "cell_type": "markdown",
   "id": "78981303-cef2-4cdc-98ca-709723fee601",
   "metadata": {},
   "source": [
    "### Array Comatibility"
   ]
  },
  {
   "cell_type": "code",
   "execution_count": 42,
   "id": "42b06d19-f5f8-49f8-950b-320324006ef9",
   "metadata": {},
   "outputs": [
    {
     "name": "stdout",
     "output_type": "stream",
     "text": [
      "Compatibility Shape:  True\n"
     ]
    }
   ],
   "source": [
    "arr1=np.array([1,2,3])\n",
    "arr2=np.array([4,5,6])\n",
    "arr3=np.array([7,8,9])\n",
    "\n",
    "print(\"Compatibility Shape: \",arr1.shape==arr2.shape)"
   ]
  },
  {
   "cell_type": "code",
   "execution_count": 46,
   "id": "6da1bc20-c239-453a-8847-97a615b3abc8",
   "metadata": {},
   "outputs": [
    {
     "name": "stdout",
     "output_type": "stream",
     "text": [
      "Adding a New Row:  [[1 2 3]\n",
      " [4 5 6]\n",
      " [7 8 9]]\n",
      "Adding a New Column:  [[1 2 3 7]\n",
      " [4 5 6 8]]\n"
     ]
    }
   ],
   "source": [
    "original=np.array([[1,2,3],[4,5,6]])\n",
    "new=np.array([[7,8,9]])\n",
    "\n",
    "# Adding a Row of the Data in existing array.\n",
    "add=np.vstack((original,new))\n",
    "print(\"Adding a New Row: \",add)\n",
    "\n",
    "# Adding a Column of data in existing array.\n",
    "new1=np.array([[7],[8]])\n",
    "add1=np.hstack((original,new1))\n",
    "print(\"Adding a New Column: \",add1)"
   ]
  },
  {
   "cell_type": "code",
   "execution_count": 48,
   "id": "b395eea9-380e-4337-93ce-4d452ff04ccb",
   "metadata": {},
   "outputs": [
    {
     "name": "stdout",
     "output_type": "stream",
     "text": [
      "Delete the Value Using Indexing:  [1 2 3 5 6]\n"
     ]
    }
   ],
   "source": [
    "# Deleting the Data in Existing Array.\n",
    "\n",
    "arr=np.array([1,2,3,4,5,6])\n",
    "delete=np.delete(arr,3)\n",
    "print(\"Delete the Value Using Indexing: \",delete)"
   ]
  },
  {
   "cell_type": "code",
   "execution_count": 3,
   "id": "0f970532-15d5-4a71-ac1c-96b7f87800f6",
   "metadata": {},
   "outputs": [],
   "source": [
    "# Data Structure: [restaurent_id, 2021, 2022, 2023, 2024]\n",
    "sales_data=np.array([\n",
    "    [1, 150000, 340000, 230000, 320000],    # Paradise Biryani\n",
    "    [2, 350000, 230000, 180000, 230000],    # Beijing Bites\n",
    "    [3, 234000, 370000, 123000, 235600],    # Pizza Hub\n",
    "    [4, 890000, 564000, 323400, 342570],    # Burger Point\n",
    "    [5, 234600, 678000, 654000, 876540],    # Chai Point\n",
    "])"
   ]
  },
  {
   "cell_type": "code",
   "execution_count": 6,
   "id": "b6073e02-8588-4600-8b9d-b55dbfda4e00",
   "metadata": {},
   "outputs": [
    {
     "name": "stdout",
     "output_type": "stream",
     "text": [
      "[[     1 150000 340000 230000 320000]\n",
      " [     2 350000 230000 180000 230000]\n",
      " [     3 234000 370000 123000 235600]\n",
      " [     4 890000 564000 323400 342570]\n",
      " [     5 234600 678000 654000 876540]]\n",
      "Sales Data Shape:  (5, 5)\n",
      "Sample Data for 1st to 3rd Restaurent:  [[     1 150000 340000 230000 320000]\n",
      " [     2 350000 230000 180000 230000]\n",
      " [     3 234000 370000 123000 235600]]\n"
     ]
    }
   ],
   "source": [
    "print(sales_data)\n",
    "print(\"Sales Data Shape: \",sales_data.shape)\n",
    "print(\"Sample Data for 1st to 3rd Restaurent: \",sales_data[0:3])"
   ]
  },
  {
   "cell_type": "code",
   "execution_count": 9,
   "id": "4c8dea5e-3fb9-4284-8d3c-c5a65e978597",
   "metadata": {},
   "outputs": [
    {
     "name": "stdout",
     "output_type": "stream",
     "text": [
      "Total Sales per Year:  [     15 1858600 2182000 1510400 2004710]\n",
      "Yearly Total:  [1858600 2182000 1510400 2004710]\n"
     ]
    }
   ],
   "source": [
    "# Total Sales per Year.\n",
    "print(\"Total Sales per Year: \",np.sum(sales_data,axis=0))\n",
    "\n",
    "# Yearly Totals\n",
    "yearly=np.sum(sales_data[:,1:],axis=0)\n",
    "print(\"Yearly Total: \",yearly)"
   ]
  },
  {
   "cell_type": "code",
   "execution_count": 10,
   "id": "bc5b14f8-97a2-4910-aee9-a58295815422",
   "metadata": {},
   "outputs": [
    {
     "name": "stdout",
     "output_type": "stream",
     "text": [
      "Minimum Sales:  [150000 180000 123000 323400 234600]\n"
     ]
    }
   ],
   "source": [
    "# minimum Sales per Restaurent.\n",
    "min_sales=np.min(sales_data[:,1:],axis=1)\n",
    "print(\"Minimum Sales: \",min_sales)"
   ]
  },
  {
   "cell_type": "code",
   "execution_count": 11,
   "id": "bc23dde9-33a3-476b-9bb9-f86aa49b0b46",
   "metadata": {},
   "outputs": [
    {
     "name": "stdout",
     "output_type": "stream",
     "text": [
      "Maximum Sales:  [890000 678000 654000 876540]\n"
     ]
    }
   ],
   "source": [
    "# Maximum Sales per Year.\n",
    "max_sales=np.max(sales_data[:,1:],axis=0)\n",
    "print(\"Maximum Sales: \",max_sales)"
   ]
  },
  {
   "cell_type": "code",
   "execution_count": 13,
   "id": "7cebff07-b2b8-49fc-8e46-541ee3973492",
   "metadata": {},
   "outputs": [
    {
     "name": "stdout",
     "output_type": "stream",
     "text": [
      "Average Sales:  [260000.  247500.  240650.  529992.5 610785. ]\n"
     ]
    }
   ],
   "source": [
    "# Average Sales per Restaurent.\n",
    "avg_sales=np.mean(sales_data[:,1:],axis=1)\n",
    "print(\"Average Sales: \",avg_sales)"
   ]
  },
  {
   "cell_type": "code",
   "execution_count": 18,
   "id": "e734d851-751e-456b-a149-d0ed50e5c28d",
   "metadata": {},
   "outputs": [
    {
     "name": "stdout",
     "output_type": "stream",
     "text": [
      "[[ 150000  490000  720000 1040000]\n",
      " [ 350000  580000  760000  990000]\n",
      " [ 234000  604000  727000  962600]\n",
      " [ 890000 1454000 1777400 2119970]\n",
      " [ 234600  912600 1566600 2443140]]\n"
     ]
    },
    {
     "data": {
      "image/png": "[encoded data removed]",
      "text/plain": [
       "<Figure size 800x600 with 1 Axes>"
      ]
     },
     "metadata": {},
     "output_type": "display_data"
    }
   ],
   "source": [
    "# Cumulative Sales\n",
    "cum_sales=np.cumsum(sales_data[:,1:],axis=1)\n",
    "print(cum_sales)\n",
    "\n",
    "plt.figure(figsize=(8,6))\n",
    "plt.plot(np.mean(cum_sales, axis=0))\n",
    "plt.title(\"Average Cumulative Sales across all Restaurent.\")\n",
    "plt.xlabel(\"Years\")\n",
    "plt.ylabel(\"Sales\")\n",
    "plt.grid(True)"
   ]
  },
  {
   "cell_type": "code",
   "execution_count": 19,
   "id": "9e922c9a-662b-4fb8-ba19-515ff258cf9d",
   "metadata": {},
   "outputs": [
    {
     "name": "stdout",
     "output_type": "stream",
     "text": [
      "Vector Addition:  [ 7  9 11 13 15]\n",
      "Vector Multiplication:  [ 6 14 24 36 50]\n",
      "Dot Product:  130\n",
      "Print Angle:  0.26554161733900966\n"
     ]
    }
   ],
   "source": [
    "vector1=np.array([1,2,3,4,5])\n",
    "vector2=np.array([6,7,8,9,10])\n",
    "\n",
    "print(\"Vector Addition: \",vector1+vector2)\n",
    "print(\"Vector Multiplication: \",vector1*vector2)\n",
    "print(\"Dot Product: \",np.dot(vector1, vector2))\n",
    "\n",
    "\n",
    "# Find Angle\n",
    "angles=np.arccos(np.dot(vector1, vector2)/(np.linalg.norm(vector1)*np.linalg.norm(vector2)))\n",
    "print(\"Print Angle: \",angles)"
   ]
  },
  {
   "cell_type": "code",
   "execution_count": 20,
   "id": "72faf7fd-6973-499c-b991-f1cc1475e688",
   "metadata": {},
   "outputs": [
    {
     "name": "stdout",
     "output_type": "stream",
     "text": [
      "Vectorized Upper:  ['BIRYANI' 'CHINESE' 'PIZZA' 'BURGER' 'CAFE']\n"
     ]
    }
   ],
   "source": [
    "restaurent_types=np.array([\"biryani\", \"chinese\", \"pizza\", \"burger\", \"cafe\"])\n",
    "vectorized_upper=np.vectorize(str.upper)\n",
    "print(\"Vectorized Upper: \",vectorized_upper(restaurent_types))"
   ]
  },
  {
   "cell_type": "code",
   "execution_count": 22,
   "id": "890e1a99-cbc0-4f3a-9334-65c146b393d3",
   "metadata": {},
   "outputs": [
    {
     "name": "stdout",
     "output_type": "stream",
     "text": [
      "[[12500.         28333.33333333 19166.66666667 26666.66666667]\n",
      " [29166.66666667 19166.66666667 15000.         19166.66666667]\n",
      " [19500.         30833.33333333 10250.         19633.33333333]\n",
      " [74166.66666667 47000.         26950.         28547.5       ]\n",
      " [19550.         56500.         54500.         73045.        ]]\n"
     ]
    }
   ],
   "source": [
    "monthly_avg=sales_data[:,1:]/12\n",
    "print(monthly_avg)"
   ]
  },
  {
   "cell_type": "code",
   "execution_count": 26,
   "id": "71f8e8b3-381d-4788-a1e4-948c2caf4434",
   "metadata": {},
   "outputs": [],
   "source": [
    "array1=np.array([[1,2,3],[4,5,6]])\n",
    "array2=np.random.rand(3,3)\n",
    "array3=np.zeros((4,4))"
   ]
  },
  {
   "cell_type": "code",
   "execution_count": 27,
   "id": "a373745e-dbec-4aef-98f2-a46e55a9330f",
   "metadata": {},
   "outputs": [],
   "source": [
    "np.save('array1.npy',array1)\n",
    "np.save('array2.npy',array2)\n",
    "np.save('array3.npy',array3)"
   ]
  },
  {
   "cell_type": "code",
   "execution_count": 28,
   "id": "4232fa3c-7fb0-4b06-be5c-a201f32b9762",
   "metadata": {},
   "outputs": [
    {
     "name": "stdout",
     "output_type": "stream",
     "text": [
      "[[1 2 3]\n",
      " [4 5 6]]\n",
      "[[0.3189638  0.12061741 0.59027153]\n",
      " [0.0983366  0.98446826 0.73451632]\n",
      " [0.23546078 0.07077887 0.67577485]]\n",
      "[[0. 0. 0. 0.]\n",
      " [0. 0. 0. 0.]\n",
      " [0. 0. 0. 0.]\n",
      " [0. 0. 0. 0.]]\n"
     ]
    }
   ],
   "source": [
    "loaded_array1=np.load('array1.npy')\n",
    "print(loaded_array1)\n",
    "\n",
    "loaded_array2=np.load('array2.npy')\n",
    "print(loaded_array2)\n",
    "\n",
    "print(np.load('array3.npy'))"
   ]
  },
  {
   "cell_type": "code",
   "execution_count": 32,
   "id": "192986a9-91dc-48ad-b245-d2875c1a8c1d",
   "metadata": {},
   "outputs": [
    {
     "data": {
      "image/png": "[encoded data removed]",
      "text/plain": [
       "<Figure size 1000x500 with 1 Axes>"
      ]
     },
     "metadata": {},
     "output_type": "display_data"
    },
    {
     "data": {
      "image/png": "[encoded data removed]",
      "text/plain": [
       "<Figure size 1000x500 with 1 Axes>"
      ]
     },
     "metadata": {},
     "output_type": "display_data"
    }
   ],
   "source": [
    "try:\n",
    "    logo=np.load('numpy-logo.npy')\n",
    "\n",
    "    # Display\n",
    "    plt.figure(figsize=(10,5))\n",
    "    plt.subplot(121)\n",
    "    plt.imshow(logo)\n",
    "    plt.title(\"NumPy Logo\")\n",
    "    plt.grid(False)\n",
    "    plt.show()\n",
    "\n",
    "    \n",
    "    dark_logo=1-logo\n",
    "    \n",
    "    plt.figure(figsize=(10,5))\n",
    "    plt.subplot(122)\n",
    "    plt.imshow(dark_logo)\n",
    "    plt.title(\"Dark Logo\")\n",
    "    plt.grid(False)\n",
    "    \n",
    "except FileNotFoundError:\n",
    "    print(\"NumPy Logo File not Found.\")"
   ]
  },
  {
   "cell_type": "code",
   "execution_count": null,
   "id": "3071baf1-3628-4d1f-b17a-343f418373f7",
   "metadata": {},
   "outputs": [],
   "source": []
  }
 ],
 "metadata": {
  "kernelspec": {
   "display_name": "Python 3 (ipykernel)",
   "language": "python",
   "name": "python3"
  },
  "language_info": {
   "codemirror_mode": {
    "name": "ipython",
    "version": 3
   },
   "file_extension": ".py",
   "mimetype": "text/x-python",
   "name": "python",
   "nbconvert_exporter": "python",
   "pygments_lexer": "ipython3",
   "version": "3.13.0"
  }
 },
 "nbformat": 4,
 "nbformat_minor": 5
}
