{
 "cells": [
  {
   "cell_type": "markdown",
   "id": "8a77807f92f26ee",
   "metadata": {},
   "source": [
    "# Introduction to Python Pandas Library.\n",
    "\n",
    "## What is Pandas?\n",
    "A powerful library for data manipulation and analysis in Python.\n",
    "\n",
    "## Why use Pandas?\n",
    "Easy Data Cleaning and Transformation. Efficient handling of large datasets. Pandas is use to visualize the datasets."
   ]
  },
  {
   "cell_type": "code",
   "execution_count": 2,
   "id": "fbc121e30a2defb3",
   "metadata": {
    "ExecuteTime": {
     "end_time": "2025-02-05T11:50:46.990246Z",
     "start_time": "2025-02-05T11:50:46.979112Z"
    }
   },
   "outputs": [
    {
     "name": "stdout",
     "output_type": "stream",
     "text": [
      "Introduction to Pandas\n"
     ]
    }
   ],
   "source": [
    "from IPython.utils.text import columnize\n",
    "from jinja2.nodes import Assign\n",
    "from pandas.core.groupby.grouper import Grouping\n",
    "\n",
    "print(\"Introduction to Pandas\")"
   ]
  },
  {
   "cell_type": "markdown",
   "id": "ee2df629990e6a4e",
   "metadata": {},
   "source": [
    "# Key Data Structure in Pandas.\n",
    "- Series(1 Dimensional)\n",
    "- DataFrame(2 Dimensional)"
   ]
  },
  {
   "cell_type": "code",
   "execution_count": 3,
   "id": "520891a4f461f874",
   "metadata": {
    "ExecuteTime": {
     "end_time": "2025-02-05T11:52:02.999508Z",
     "start_time": "2025-02-05T11:52:02.986884Z"
    }
   },
   "outputs": [
    {
     "data": {
      "text/plain": [
       "a    1\n",
       "b    2\n",
       "c    3\n",
       "d    4\n",
       "e    5\n",
       "dtype: int64"
      ]
     },
     "execution_count": 3,
     "metadata": {},
     "output_type": "execute_result"
    }
   ],
   "source": [
    "import pandas as pd\n",
    "s=pd.Series([1,2,3,4,5],index=['a','b','c','d','e'])\n",
    "s"
   ]
  },
  {
   "cell_type": "code",
   "execution_count": 4,
   "id": "36c3e2eaa9ba7416",
   "metadata": {
    "ExecuteTime": {
     "end_time": "2025-02-05T11:54:02.253783Z",
     "start_time": "2025-02-05T11:54:02.238304Z"
    }
   },
   "outputs": [
    {
     "data": {
      "text/html": [
       "<div>\n",
       "<style scoped>\n",
       "    .dataframe tbody tr th:only-of-type {\n",
       "        vertical-align: middle;\n",
       "    }\n",
       "\n",
       "    .dataframe tbody tr th {\n",
       "        vertical-align: top;\n",
       "    }\n",
       "\n",
       "    .dataframe thead th {\n",
       "        text-align: right;\n",
       "    }\n",
       "</style>\n",
       "<table border=\"1\" class=\"dataframe\">\n",
       "  <thead>\n",
       "    <tr style=\"text-align: right;\">\n",
       "      <th></th>\n",
       "      <th>Name</th>\n",
       "      <th>marks</th>\n",
       "    </tr>\n",
       "  </thead>\n",
       "  <tbody>\n",
       "    <tr>\n",
       "      <th>0</th>\n",
       "      <td>Akash</td>\n",
       "      <td>98</td>\n",
       "    </tr>\n",
       "    <tr>\n",
       "      <th>1</th>\n",
       "      <td>Suraj</td>\n",
       "      <td>89</td>\n",
       "    </tr>\n",
       "    <tr>\n",
       "      <th>2</th>\n",
       "      <td>Shivam</td>\n",
       "      <td>87</td>\n",
       "    </tr>\n",
       "    <tr>\n",
       "      <th>3</th>\n",
       "      <td>Abhishek</td>\n",
       "      <td>90</td>\n",
       "    </tr>\n",
       "  </tbody>\n",
       "</table>\n",
       "</div>"
      ],
      "text/plain": [
       "       Name  marks\n",
       "0     Akash     98\n",
       "1     Suraj     89\n",
       "2    Shivam     87\n",
       "3  Abhishek     90"
      ]
     },
     "execution_count": 4,
     "metadata": {},
     "output_type": "execute_result"
    }
   ],
   "source": [
    "df=pd.DataFrame({'Name':[\"Akash\",\"Suraj\",\"Shivam\",\"Abhishek\"],\"marks\":[98,89,87,90]})\n",
    "df"
   ]
  },
  {
   "cell_type": "markdown",
   "id": "2c976ec2badd72ab",
   "metadata": {},
   "source": [
    "#### Read Data from CSV File using Pandas Library."
   ]
  },
  {
   "cell_type": "code",
   "execution_count": 5,
   "id": "410c1504ce2f28d2",
   "metadata": {
    "ExecuteTime": {
     "end_time": "2025-02-07T08:19:21.233962Z",
     "start_time": "2025-02-07T08:19:21.218549Z"
    }
   },
   "outputs": [
    {
     "data": {
      "text/html": [
       "<div>\n",
       "<style scoped>\n",
       "    .dataframe tbody tr th:only-of-type {\n",
       "        vertical-align: middle;\n",
       "    }\n",
       "\n",
       "    .dataframe tbody tr th {\n",
       "        vertical-align: top;\n",
       "    }\n",
       "\n",
       "    .dataframe thead th {\n",
       "        text-align: right;\n",
       "    }\n",
       "</style>\n",
       "<table border=\"1\" class=\"dataframe\">\n",
       "  <thead>\n",
       "    <tr style=\"text-align: right;\">\n",
       "      <th></th>\n",
       "      <th>sepal_length</th>\n",
       "      <th>sepal_width</th>\n",
       "      <th>petal_length</th>\n",
       "      <th>petal_width</th>\n",
       "      <th>species</th>\n",
       "    </tr>\n",
       "  </thead>\n",
       "  <tbody>\n",
       "    <tr>\n",
       "      <th>0</th>\n",
       "      <td>5.1</td>\n",
       "      <td>3.5</td>\n",
       "      <td>1.4</td>\n",
       "      <td>0.2</td>\n",
       "      <td>setosa</td>\n",
       "    </tr>\n",
       "    <tr>\n",
       "      <th>1</th>\n",
       "      <td>4.9</td>\n",
       "      <td>3.0</td>\n",
       "      <td>1.4</td>\n",
       "      <td>0.2</td>\n",
       "      <td>setosa</td>\n",
       "    </tr>\n",
       "    <tr>\n",
       "      <th>2</th>\n",
       "      <td>4.7</td>\n",
       "      <td>3.2</td>\n",
       "      <td>1.3</td>\n",
       "      <td>0.2</td>\n",
       "      <td>setosa</td>\n",
       "    </tr>\n",
       "    <tr>\n",
       "      <th>3</th>\n",
       "      <td>4.6</td>\n",
       "      <td>3.1</td>\n",
       "      <td>1.5</td>\n",
       "      <td>0.2</td>\n",
       "      <td>setosa</td>\n",
       "    </tr>\n",
       "    <tr>\n",
       "      <th>4</th>\n",
       "      <td>5.0</td>\n",
       "      <td>3.6</td>\n",
       "      <td>1.4</td>\n",
       "      <td>0.2</td>\n",
       "      <td>setosa</td>\n",
       "    </tr>\n",
       "    <tr>\n",
       "      <th>...</th>\n",
       "      <td>...</td>\n",
       "      <td>...</td>\n",
       "      <td>...</td>\n",
       "      <td>...</td>\n",
       "      <td>...</td>\n",
       "    </tr>\n",
       "    <tr>\n",
       "      <th>145</th>\n",
       "      <td>6.7</td>\n",
       "      <td>3.0</td>\n",
       "      <td>5.2</td>\n",
       "      <td>2.3</td>\n",
       "      <td>virginica</td>\n",
       "    </tr>\n",
       "    <tr>\n",
       "      <th>146</th>\n",
       "      <td>6.3</td>\n",
       "      <td>2.5</td>\n",
       "      <td>5.0</td>\n",
       "      <td>1.9</td>\n",
       "      <td>virginica</td>\n",
       "    </tr>\n",
       "    <tr>\n",
       "      <th>147</th>\n",
       "      <td>6.5</td>\n",
       "      <td>3.0</td>\n",
       "      <td>5.2</td>\n",
       "      <td>2.0</td>\n",
       "      <td>virginica</td>\n",
       "    </tr>\n",
       "    <tr>\n",
       "      <th>148</th>\n",
       "      <td>6.2</td>\n",
       "      <td>3.4</td>\n",
       "      <td>5.4</td>\n",
       "      <td>2.3</td>\n",
       "      <td>virginica</td>\n",
       "    </tr>\n",
       "    <tr>\n",
       "      <th>149</th>\n",
       "      <td>5.9</td>\n",
       "      <td>3.0</td>\n",
       "      <td>5.1</td>\n",
       "      <td>1.8</td>\n",
       "      <td>virginica</td>\n",
       "    </tr>\n",
       "  </tbody>\n",
       "</table>\n",
       "<p>150 rows × 5 columns</p>\n",
       "</div>"
      ],
      "text/plain": [
       "     sepal_length  sepal_width  petal_length  petal_width    species\n",
       "0             5.1          3.5           1.4          0.2     setosa\n",
       "1             4.9          3.0           1.4          0.2     setosa\n",
       "2             4.7          3.2           1.3          0.2     setosa\n",
       "3             4.6          3.1           1.5          0.2     setosa\n",
       "4             5.0          3.6           1.4          0.2     setosa\n",
       "..            ...          ...           ...          ...        ...\n",
       "145           6.7          3.0           5.2          2.3  virginica\n",
       "146           6.3          2.5           5.0          1.9  virginica\n",
       "147           6.5          3.0           5.2          2.0  virginica\n",
       "148           6.2          3.4           5.4          2.3  virginica\n",
       "149           5.9          3.0           5.1          1.8  virginica\n",
       "\n",
       "[150 rows x 5 columns]"
      ]
     },
     "execution_count": 5,
     "metadata": {},
     "output_type": "execute_result"
    }
   ],
   "source": [
    "# Read the CSV File using DataFrame.\n",
    "\n",
    "import pandas as pd\n",
    "df=pd.read_csv('Iris.csv')\n",
    "df"
   ]
  },
  {
   "cell_type": "code",
   "execution_count": 6,
   "id": "24ebe7bb4d9469ff",
   "metadata": {},
   "outputs": [],
   "source": [
    "# Read the Excel File using DataFrame.\n",
    "\n",
    "# df=pd.read_excel('Iris.xlsx')\n",
    "# print(df)"
   ]
  },
  {
   "cell_type": "code",
   "execution_count": 7,
   "id": "f825f5e6e1975893",
   "metadata": {},
   "outputs": [],
   "source": [
    "# Read the JSON File using DataFrame.\n",
    "\n",
    "# df=pd.read_json('Iris.json')\n",
    "# print(df)"
   ]
  },
  {
   "cell_type": "markdown",
   "id": "a38e041f7c2d423f",
   "metadata": {},
   "source": [
    "## How to Create Self DataFrame."
   ]
  },
  {
   "cell_type": "code",
   "execution_count": 9,
   "id": "3b8e420a18a13be8",
   "metadata": {
    "ExecuteTime": {
     "end_time": "2025-02-07T08:32:28.739950Z",
     "start_time": "2025-02-07T08:32:28.719444Z"
    }
   },
   "outputs": [],
   "source": [
    "data={\n",
    "     \"Name\":[\"Akash\",\"Suraj\",\"Shivam\",\"Abhishek\"],\n",
    "     \"marks\":[98,89,87,90],\n",
    "     \"Age\":[22,22,21,24],\n",
    "     \"city\":[\"Mirzapur\",\"Varanasi\",\"Gopiganj\",\"Sonbhadra\"]\n",
    " }\n",
    "df=pd.DataFrame(data)\n",
    "df\n",
    "\n",
    "\n",
    "\n",
    "# Save the File in CSV Format.\n",
    "\n",
    "df.to_csv(\"personal.csv\",index=False)\n",
    "\n",
    "#  Save the File in Excel Format.\n",
    "\n",
    "# df.to_excel(\"personal2.xlsx\",index=False)\n",
    "\n",
    "# Save the File in JSON Format.\n",
    "\n",
    "# df.to_json(\"personal2.json\",index=False)"
   ]
  },
  {
   "cell_type": "markdown",
   "id": "d39ae9630c27e6a3",
   "metadata": {},
   "source": [
    "### How to Explore the DataSet\n",
    "- Understand the Dataset.\n",
    "- Identify the Problem\n",
    "- Plan next Step"
   ]
  },
  {
   "cell_type": "markdown",
   "id": "3b159b8287985cd8",
   "metadata": {},
   "source": [
    "### Method to Explore the Datasets\n",
    "\n",
    "- Head()\n",
    "- Tail()"
   ]
  },
  {
   "cell_type": "code",
   "execution_count": 10,
   "id": "d1c2beff27502ae6",
   "metadata": {
    "ExecuteTime": {
     "end_time": "2025-02-07T10:35:07.575674Z",
     "start_time": "2025-02-07T10:35:07.551975Z"
    }
   },
   "outputs": [
    {
     "name": "stdout",
     "output_type": "stream",
     "text": [
      "   sepal_length  sepal_width  petal_length  petal_width species\n",
      "0           5.1          3.5           1.4          0.2  setosa\n",
      "1           4.9          3.0           1.4          0.2  setosa\n",
      "2           4.7          3.2           1.3          0.2  setosa\n",
      "3           4.6          3.1           1.5          0.2  setosa\n",
      "4           5.0          3.6           1.4          0.2  setosa\n",
      "5           5.4          3.9           1.7          0.4  setosa\n",
      "6           4.6          3.4           1.4          0.3  setosa\n",
      "7           5.0          3.4           1.5          0.2  setosa\n",
      "8           4.4          2.9           1.4          0.2  setosa\n",
      "9           4.9          3.1           1.5          0.1  setosa\n",
      "     sepal_length  sepal_width  petal_length  petal_width    species\n",
      "140           6.7          3.1           5.6          2.4  virginica\n",
      "141           6.9          3.1           5.1          2.3  virginica\n",
      "142           5.8          2.7           5.1          1.9  virginica\n",
      "143           6.8          3.2           5.9          2.3  virginica\n",
      "144           6.7          3.3           5.7          2.5  virginica\n",
      "145           6.7          3.0           5.2          2.3  virginica\n",
      "146           6.3          2.5           5.0          1.9  virginica\n",
      "147           6.5          3.0           5.2          2.0  virginica\n",
      "148           6.2          3.4           5.4          2.3  virginica\n",
      "149           5.9          3.0           5.1          1.8  virginica\n"
     ]
    }
   ],
   "source": [
    "# Import the Data Sets.\n",
    "\n",
    "df=pd.read_csv(\"iris.csv\")\n",
    "\n",
    "\n",
    "# Print the 10 values of Top.\n",
    "\n",
    "print(df.head(10))\n",
    "\n",
    "# Print the 10 values of last.\n",
    "\n",
    "print(df.tail(10))"
   ]
  },
  {
   "cell_type": "markdown",
   "id": "c768cd9237975362",
   "metadata": {},
   "source": [
    "### Summarizing the Datasets.\n",
    "\n",
    "- No of columns and rows.\n",
    "- What type of data hold the column and rows.\n",
    "- Missing data.\n"
   ]
  },
  {
   "cell_type": "markdown",
   "id": "7d0f4586484da1ca",
   "metadata": {},
   "source": [
    "### Methods of Summarize the datasets.\n",
    "\n",
    "- info()\n",
    "\n",
    "#### Find the output of Summarizing datasets.\n",
    "\n",
    "- Number of Rows and Columns.\n",
    "- Column Name.\n",
    "- Data Type.\n",
    "- Missing data of datasets.\n",
    "- Memory usage of Data Frame."
   ]
  },
  {
   "cell_type": "code",
   "execution_count": 11,
   "id": "f389bf0529ab6782",
   "metadata": {
    "ExecuteTime": {
     "end_time": "2025-02-07T10:43:17.315236Z",
     "start_time": "2025-02-07T10:43:17.288391Z"
    }
   },
   "outputs": [
    {
     "name": "stdout",
     "output_type": "stream",
     "text": [
      "<class 'pandas.core.frame.DataFrame'>\n",
      "RangeIndex: 150 entries, 0 to 149\n",
      "Data columns (total 5 columns):\n",
      " #   Column        Non-Null Count  Dtype  \n",
      "---  ------        --------------  -----  \n",
      " 0   sepal_length  150 non-null    float64\n",
      " 1   sepal_width   150 non-null    float64\n",
      " 2   petal_length  150 non-null    float64\n",
      " 3   petal_width   150 non-null    float64\n",
      " 4   species       150 non-null    object \n",
      "dtypes: float64(4), object(1)\n",
      "memory usage: 6.0+ KB\n",
      "None\n"
     ]
    }
   ],
   "source": [
    "print(df.info())"
   ]
  },
  {
   "cell_type": "code",
   "execution_count": 12,
   "id": "223a85edecf04647",
   "metadata": {
    "ExecuteTime": {
     "end_time": "2025-02-07T10:55:13.963313Z",
     "start_time": "2025-02-07T10:55:13.951365Z"
    }
   },
   "outputs": [
    {
     "name": "stdout",
     "output_type": "stream",
     "text": [
      "       sepal_length  sepal_width  petal_length  petal_width\n",
      "count    150.000000   150.000000    150.000000   150.000000\n",
      "mean       5.843333     3.054000      3.758667     1.198667\n",
      "std        0.828066     0.433594      1.764420     0.763161\n",
      "min        4.300000     2.000000      1.000000     0.100000\n",
      "25%        5.100000     2.800000      1.600000     0.300000\n",
      "50%        5.800000     3.000000      4.350000     1.300000\n",
      "75%        6.400000     3.300000      5.100000     1.800000\n",
      "max        7.900000     4.400000      6.900000     2.500000\n"
     ]
    }
   ],
   "source": [
    "# Desribe Method is used to describe the datasets.\n",
    "\n",
    "print(df.describe())"
   ]
  },
  {
   "cell_type": "markdown",
   "id": "6648bc251522cc60",
   "metadata": {},
   "source": [
    "### Manipulation of Datasets.\n",
    "\n",
    "- How big your dataset.\n",
    "- What are the name of the columns.\n",
    "\n",
    "### Methods to Manipilate the Datasets.\n",
    "\n",
    "- shape :- Print the Size of the Datasets.\n",
    "- columns :- Print the name of the Columns of Datasets."
   ]
  },
  {
   "cell_type": "code",
   "execution_count": 13,
   "id": "e9f9dc43705dc1de",
   "metadata": {
    "ExecuteTime": {
     "end_time": "2025-02-07T11:00:33.656859Z",
     "start_time": "2025-02-07T11:00:33.653303Z"
    }
   },
   "outputs": [
    {
     "name": "stdout",
     "output_type": "stream",
     "text": [
      "(150, 5)\n",
      "Index(['sepal_length', 'sepal_width', 'petal_length', 'petal_width',\n",
      "       'species'],\n",
      "      dtype='object')\n"
     ]
    }
   ],
   "source": [
    "print(df.shape)\n",
    "print(df.columns)"
   ]
  },
  {
   "cell_type": "markdown",
   "id": "1d95dee7fd56dd08",
   "metadata": {},
   "source": [
    "### Selecting and Filtering the DataSets for Manipulation.\n",
    "\n",
    "- Select Specific Columns.\n",
    "- Filter Rows.\n",
    "- Combine Multiple Conditions.\n",
    "\n"
   ]
  },
  {
   "cell_type": "code",
   "execution_count": 14,
   "id": "9771e50128792855",
   "metadata": {
    "ExecuteTime": {
     "end_time": "2025-02-07T11:15:52.321719Z",
     "start_time": "2025-02-07T11:15:52.307384Z"
    }
   },
   "outputs": [],
   "source": [
    "df=pd.read_csv(\"personal.csv\")"
   ]
  },
  {
   "cell_type": "code",
   "execution_count": 15,
   "id": "8d4bbfcf5685b061",
   "metadata": {
    "ExecuteTime": {
     "end_time": "2025-02-07T11:22:32.780837Z",
     "start_time": "2025-02-07T11:22:32.765322Z"
    }
   },
   "outputs": [
    {
     "name": "stdout",
     "output_type": "stream",
     "text": [
      "0       Akash\n",
      "1       Suraj\n",
      "2      Shivam\n",
      "3    Abhishek\n",
      "Name: Name, dtype: object\n",
      "       Name  Age       city\n",
      "0     Akash   22   Mirzapur\n",
      "1     Suraj   22   Varanasi\n",
      "2    Shivam   21   Gopiganj\n",
      "3  Abhishek   24  Sonbhadra\n"
     ]
    }
   ],
   "source": [
    "# Selecting Columns.\n",
    "\n",
    "# 1. 1 a Series\n",
    "# column=df[\"Column_Name\"]\n",
    "name=df[\"Name\"]\n",
    "print(name)\n",
    "\n",
    "# 2. DataFrame Multiple Columns of Data.\n",
    "# subset=df[[\"Column1\",\"Column2\",\"Column3\"]]\n",
    "subset=df[[\"Name\",\"Age\",\"city\"]]\n",
    "print(subset)\n"
   ]
  },
  {
   "cell_type": "code",
   "execution_count": 16,
   "id": "66a53a4a469ce893",
   "metadata": {
    "ExecuteTime": {
     "end_time": "2025-02-07T11:26:51.526647Z",
     "start_time": "2025-02-07T11:26:51.519381Z"
    }
   },
   "outputs": [
    {
     "name": "stdout",
     "output_type": "stream",
     "text": [
      "    Name  marks  Age      city\n",
      "0  Akash     98   22  Mirzapur\n",
      "       Name  marks  Age       city\n",
      "0     Akash     98   22   Mirzapur\n",
      "1     Suraj     89   22   Varanasi\n",
      "2    Shivam     87   21   Gopiganj\n",
      "3  Abhishek     90   24  Sonbhadra\n"
     ]
    }
   ],
   "source": [
    "# Filtering Rows.\n",
    "# Boolean Indexing.\n",
    "\n",
    "# 1. Based on a Single Condition.\n",
    "# row=df[df['Column_Name']==value]\n",
    "high_marks=df[df[\"marks\"]>90]\n",
    "print(high_marks)\n",
    "\n",
    "# 2. Combine Multiple Condition.\n",
    "# rows=df[(df['column1']==value)&(df['column2']==value)]\n",
    "filtered_data=df[(df[\"marks\"]>80)&(df[\"Age\"]>20)]\n",
    "print(filtered_data)"
   ]
  },
  {
   "cell_type": "markdown",
   "id": "a48e53b43679c1d0",
   "metadata": {},
   "source": [
    "### Modify the Columns and Rows.\n",
    "\n",
    "- Adding the Columns.\n"
   ]
  },
  {
   "cell_type": "code",
   "execution_count": 19,
   "id": "d0333de574fd278",
   "metadata": {
    "ExecuteTime": {
     "end_time": "2025-02-09T08:13:28.523463Z",
     "start_time": "2025-02-09T08:13:28.512794Z"
    }
   },
   "outputs": [],
   "source": [
    "import pandas as pd"
   ]
  },
  {
   "cell_type": "code",
   "execution_count": 32,
   "id": "faa80141cd3f2acf",
   "metadata": {
    "ExecuteTime": {
     "end_time": "2025-02-09T02:51:23.759180Z",
     "start_time": "2025-02-09T02:51:23.746791Z"
    }
   },
   "outputs": [
    {
     "name": "stdout",
     "output_type": "stream",
     "text": [
      "       Name  marks  Age       city\n",
      "0     Akash     98   22   Mirzapur\n",
      "1     Suraj     89   22   Varanasi\n",
      "2    Shivam     87   21   Gopiganj\n",
      "3  Abhishek     90   24  Sonbhadra\n",
      "       Name  marks  Age       city\n",
      "0     Akash     98   22   Mirzapur\n",
      "1     Suraj     89   22   Varanasi\n",
      "2    Shivam     87   21   Gopiganj\n",
      "3  Abhishek     90   24  Sonbhadra\n",
      "   Student Id      Name  marks  Age       city\n",
      "0           1     Akash     98   22   Mirzapur\n",
      "1           2     Suraj     89   22   Varanasi\n",
      "2           3    Shivam     87   21   Gopiganj\n",
      "3           4  Abhishek     90   24  Sonbhadra\n"
     ]
    }
   ],
   "source": [
    "# Method 1:-  Adding columns via Assign.\n",
    "# df[\"Column_Name\"]=Some_data\n",
    "\n",
    "df=pd.read_csv(\"personal.csv\")\n",
    "print(df)\n",
    "\n",
    "# df[\"bonus\"]=df[\"Salary\"]*0.1\n",
    "print(df)\n",
    "\n",
    "# Method 2:- Adding Columns using insert().\n",
    "# df.insert(loc,\"Column_Name\",\"Some_data\")\n",
    "\n",
    "df.insert(0,\"Student Id\",[1,2,3,4])\n",
    "print(df)"
   ]
  },
  {
   "cell_type": "markdown",
   "id": "ca316f066f801383",
   "metadata": {},
   "source": [
    "- Updating Values in the columns."
   ]
  },
  {
   "cell_type": "code",
   "execution_count": 33,
   "id": "61a585661bd922fb",
   "metadata": {
    "ExecuteTime": {
     "end_time": "2025-02-09T02:55:08.273271Z",
     "start_time": "2025-02-09T02:55:08.258391Z"
    }
   },
   "outputs": [
    {
     "name": "stdout",
     "output_type": "stream",
     "text": [
      "   Student Id      Name  marks  Age       city   Salary\n",
      "0           1     Akash     98   22   Mirzapur  60000.0\n",
      "1           2     Suraj     89   22   Varanasi      NaN\n",
      "2           3    Shivam     87   21   Gopiganj      NaN\n",
      "3           4  Abhishek     90   24  Sonbhadra      NaN\n",
      "   Student Id      Name  marks  Age       city   Salary\n",
      "0           1     Akash     98   22   Mirzapur  63000.0\n",
      "1           2     Suraj     89   22   Varanasi      NaN\n",
      "2           3    Shivam     87   21   Gopiganj      NaN\n",
      "3           4  Abhishek     90   24  Sonbhadra      NaN\n"
     ]
    }
   ],
   "source": [
    "# Method 1:-\n",
    "# df.loc(row_index,\"Column Name\")=new_value\n",
    "\n",
    "df.loc[0,\"Salary\"]=60000\n",
    "print(df)\n",
    "\n",
    "\n",
    "# Method 2:-\n",
    "# Increasing Salary by 5%.\n",
    "\n",
    "df[\"Salary\"]=df[\"Salary\"]*1.05\n",
    "print(df)"
   ]
  },
  {
   "cell_type": "markdown",
   "id": "fa8276c364571887",
   "metadata": {},
   "source": [
    "### Removing Columns in DataFrame."
   ]
  },
  {
   "cell_type": "code",
   "execution_count": 34,
   "id": "f1f3bd9cc90a65a1",
   "metadata": {
    "ExecuteTime": {
     "end_time": "2025-02-09T02:59:30.442359Z",
     "start_time": "2025-02-09T02:59:30.427147Z"
    }
   },
   "outputs": [
    {
     "name": "stdout",
     "output_type": "stream",
     "text": [
      "   Student Id      Name  marks       city   Salary\n",
      "0           1     Akash     98   Mirzapur  63000.0\n",
      "1           2     Suraj     89   Varanasi      NaN\n",
      "2           3    Shivam     87   Gopiganj      NaN\n",
      "3           4  Abhishek     90  Sonbhadra      NaN\n"
     ]
    }
   ],
   "source": [
    "# df.drop(columns = [\"Column_Name\"],inplace=True)\n",
    "\n",
    "df.drop(columns=[\"Age\"],inplace=True)\n",
    "print(df)\n",
    "\n",
    "\n",
    "# df.drop(columns = [\"Column_Name\",\"Column_Name2\"],inplace=True)\n"
   ]
  },
  {
   "cell_type": "markdown",
   "id": "58d786ba271b5d51",
   "metadata": {},
   "source": [
    "### Handling Missing Data in Datasets.\n",
    "\n",
    "- NaN(Not a Number)\n",
    "- None(for Object Data Types)\n",
    "\n",
    "#### Methods to handle the Missing Data.\n",
    "\n",
    "- isnull()\n",
    "    - True :- NaN is Missing.\n",
    "    - False :- value is Present.\n"
   ]
  },
  {
   "cell_type": "code",
   "execution_count": 35,
   "id": "8719d7d6d2dd8671",
   "metadata": {
    "ExecuteTime": {
     "end_time": "2025-02-09T06:10:49.953603Z",
     "start_time": "2025-02-09T06:10:49.916752Z"
    }
   },
   "outputs": [
    {
     "name": "stdout",
     "output_type": "stream",
     "text": [
      "    brand_name                            model  price  rating  has_5g  \\\n",
      "0      oneplus                    OnePlus 11 5G  54999    89.0    True   \n",
      "1      oneplus        OnePlus Nord CE 2 Lite 5G  19989    81.0    True   \n",
      "2      samsung            Samsung Galaxy A14 5G  16499    75.0    True   \n",
      "3     motorola             Motorola Moto G62 5G  14999    81.0    True   \n",
      "4       realme               Realme 10 Pro Plus  24999    82.0    True   \n",
      "..         ...                              ...    ...     ...     ...   \n",
      "975   motorola       Motorola Moto Edge S30 Pro  34990    83.0    True   \n",
      "976      honor                      Honor X8 5G  14990    75.0    True   \n",
      "977       poco  POCO X4 GT 5G (8GB RAM + 256GB)  28990    85.0    True   \n",
      "978   motorola             Motorola Moto G91 5G  19990    80.0    True   \n",
      "979    samsung           Samsung Galaxy M52s 5G  24990    74.0    True   \n",
      "\n",
      "     has_nfc  has_ir_blaster processor_brand  num_cores  processor_speed  ...  \\\n",
      "0       True           False      snapdragon        8.0             3.20  ...   \n",
      "1      False           False      snapdragon        8.0             2.20  ...   \n",
      "2      False           False          exynos        8.0             2.40  ...   \n",
      "3      False           False      snapdragon        8.0             2.20  ...   \n",
      "4      False           False       dimensity        8.0             2.60  ...   \n",
      "..       ...             ...             ...        ...              ...  ...   \n",
      "975    False           False      snapdragon        8.0             3.00  ...   \n",
      "976    False           False      snapdragon        8.0             2.20  ...   \n",
      "977     True            True       dimensity        8.0             2.85  ...   \n",
      "978     True           False      snapdragon        8.0             2.20  ...   \n",
      "979    False           False             NaN        8.0              NaN  ...   \n",
      "\n",
      "     refresh_rate  num_rear_cameras  num_front_cameras       os  \\\n",
      "0             120                 3                1.0  android   \n",
      "1             120                 3                1.0  android   \n",
      "2              90                 3                1.0  android   \n",
      "3             120                 3                1.0  android   \n",
      "4             120                 3                1.0  android   \n",
      "..            ...               ...                ...      ...   \n",
      "975           120                 3                1.0  android   \n",
      "976            60                 3                1.0  android   \n",
      "977           144                 3                1.0  android   \n",
      "978            60                 3                1.0  android   \n",
      "979            60                 3                1.0  android   \n",
      "\n",
      "     primary_camera_rear  primary_camera_front  extended_memory_available  \\\n",
      "0                   50.0                  16.0                          0   \n",
      "1                   64.0                  16.0                          1   \n",
      "2                   50.0                  13.0                          1   \n",
      "3                   50.0                  16.0                          1   \n",
      "4                  108.0                  16.0                          0   \n",
      "..                   ...                   ...                        ...   \n",
      "975                 64.0                  16.0                          0   \n",
      "976                 48.0                   8.0                          1   \n",
      "977                 64.0                  16.0                          0   \n",
      "978                108.0                  32.0                          1   \n",
      "979                 64.0                  32.0                          1   \n",
      "\n",
      "     extended_upto  resolution_width resolution_height  \n",
      "0              NaN              1440              3216  \n",
      "1           1024.0              1080              2412  \n",
      "2           1024.0              1080              2408  \n",
      "3           1024.0              1080              2400  \n",
      "4              NaN              1080              2412  \n",
      "..             ...               ...               ...  \n",
      "975            NaN              1080              2460  \n",
      "976         1024.0               720              1600  \n",
      "977            NaN              1080              2460  \n",
      "978         1024.0              1080              2400  \n",
      "979         1024.0              1080              2400  \n",
      "\n",
      "[980 rows x 26 columns]\n",
      "     brand_name  model  price  rating  has_5g  has_nfc  has_ir_blaster  \\\n",
      "0         False  False  False   False   False    False           False   \n",
      "1         False  False  False   False   False    False           False   \n",
      "2         False  False  False   False   False    False           False   \n",
      "3         False  False  False   False   False    False           False   \n",
      "4         False  False  False   False   False    False           False   \n",
      "..          ...    ...    ...     ...     ...      ...             ...   \n",
      "975       False  False  False   False   False    False           False   \n",
      "976       False  False  False   False   False    False           False   \n",
      "977       False  False  False   False   False    False           False   \n",
      "978       False  False  False   False   False    False           False   \n",
      "979       False  False  False   False   False    False           False   \n",
      "\n",
      "     processor_brand  num_cores  processor_speed  ...  refresh_rate  \\\n",
      "0              False      False            False  ...         False   \n",
      "1              False      False            False  ...         False   \n",
      "2              False      False            False  ...         False   \n",
      "3              False      False            False  ...         False   \n",
      "4              False      False            False  ...         False   \n",
      "..               ...        ...              ...  ...           ...   \n",
      "975            False      False            False  ...         False   \n",
      "976            False      False            False  ...         False   \n",
      "977            False      False            False  ...         False   \n",
      "978            False      False            False  ...         False   \n",
      "979             True      False             True  ...         False   \n",
      "\n",
      "     num_rear_cameras  num_front_cameras     os  primary_camera_rear  \\\n",
      "0               False              False  False                False   \n",
      "1               False              False  False                False   \n",
      "2               False              False  False                False   \n",
      "3               False              False  False                False   \n",
      "4               False              False  False                False   \n",
      "..                ...                ...    ...                  ...   \n",
      "975             False              False  False                False   \n",
      "976             False              False  False                False   \n",
      "977             False              False  False                False   \n",
      "978             False              False  False                False   \n",
      "979             False              False  False                False   \n",
      "\n",
      "     primary_camera_front  extended_memory_available  extended_upto  \\\n",
      "0                   False                      False           True   \n",
      "1                   False                      False          False   \n",
      "2                   False                      False          False   \n",
      "3                   False                      False          False   \n",
      "4                   False                      False           True   \n",
      "..                    ...                        ...            ...   \n",
      "975                 False                      False           True   \n",
      "976                 False                      False          False   \n",
      "977                 False                      False           True   \n",
      "978                 False                      False          False   \n",
      "979                 False                      False          False   \n",
      "\n",
      "     resolution_width  resolution_height  \n",
      "0               False              False  \n",
      "1               False              False  \n",
      "2               False              False  \n",
      "3               False              False  \n",
      "4               False              False  \n",
      "..                ...                ...  \n",
      "975             False              False  \n",
      "976             False              False  \n",
      "977             False              False  \n",
      "978             False              False  \n",
      "979             False              False  \n",
      "\n",
      "[980 rows x 26 columns]\n",
      "brand_name                     0\n",
      "model                          0\n",
      "price                          0\n",
      "rating                       101\n",
      "has_5g                         0\n",
      "has_nfc                        0\n",
      "has_ir_blaster                 0\n",
      "processor_brand               20\n",
      "num_cores                      6\n",
      "processor_speed               42\n",
      "battery_capacity              11\n",
      "fast_charging_available        0\n",
      "fast_charging                211\n",
      "ram_capacity                   0\n",
      "internal_memory                0\n",
      "screen_size                    0\n",
      "refresh_rate                   0\n",
      "num_rear_cameras               0\n",
      "num_front_cameras              4\n",
      "os                            14\n",
      "primary_camera_rear            0\n",
      "primary_camera_front           5\n",
      "extended_memory_available      0\n",
      "extended_upto                480\n",
      "resolution_width               0\n",
      "resolution_height              0\n",
      "dtype: int64\n"
     ]
    }
   ],
   "source": [
    "df=pd.read_csv(\"sample.csv\")\n",
    "print(df)\n",
    "\n",
    "# Return the missing value.\n",
    "print(df.isnull())\n",
    "\n",
    "# Return the Sum of Missing value in Datasets.\n",
    "print(df.isnull().sum())"
   ]
  },
  {
   "cell_type": "code",
   "execution_count": 36,
   "id": "3377e202082f0076",
   "metadata": {
    "ExecuteTime": {
     "end_time": "2025-02-09T06:17:42.739518Z",
     "start_time": "2025-02-09T06:17:42.734487Z"
    }
   },
   "outputs": [],
   "source": [
    "# Remove the Missing Values rows and columns.\n",
    "# dropna()\n",
    "\n",
    "# df.dropna(inplace=True)\n",
    "# print(df)\n",
    "\n",
    "\n",
    "# Handle or Fill the Missing value in Datasets.\n",
    "# fillna(value,inplace=True)\n",
    "\n",
    "# df.fillna(0,inplace=True)\n",
    "# print(df)\n",
    "\n",
    "# df.fillna(df.mean(),inplace=True)\n",
    "# print(df)"
   ]
  },
  {
   "cell_type": "code",
   "execution_count": 37,
   "id": "72cb2f1160da81e",
   "metadata": {
    "ExecuteTime": {
     "end_time": "2025-02-09T07:55:37.315110Z",
     "start_time": "2025-02-09T07:55:37.298089Z"
    }
   },
   "outputs": [
    {
     "name": "stdout",
     "output_type": "stream",
     "text": [
      "       Name   Age  Salary\n",
      "0     Akash  22.0   60000\n",
      "1     Suraj   NaN   45000\n",
      "2    Shivam   NaN   50000\n",
      "3      Abhi  26.0   45000\n",
      "4    Vikash  22.0   54000\n",
      "5  Abhishek  26.0   48000\n",
      "       Name        Age  Salary\n",
      "0     Akash  22.000000   60000\n",
      "1     Suraj  23.333333   45000\n",
      "2    Shivam  24.666667   50000\n",
      "3      Abhi  26.000000   45000\n",
      "4    Vikash  22.000000   54000\n",
      "5  Abhishek  26.000000   48000\n"
     ]
    }
   ],
   "source": [
    "# Fill the estimated value in missing value.\n",
    "# df['value']=df['value'].interpolate(method='linear')\n",
    "\n",
    "data={\n",
    "    \"Name\":[\"Akash\",\"Suraj\",\"Shivam\",\"Abhi\",\"Vikash\",\"Abhishek\"],\n",
    "     \"Age\":[22,None,None,26,22,26],\n",
    "    \"Salary\":[60000,45000,50000,45000,54000,48000]\n",
    "}\n",
    "df=pd.DataFrame(data)\n",
    "print(df)\n",
    "\n",
    "df['Age']=df[\"Age\"].interpolate(method=\"linear\")\n",
    "print(df)"
   ]
  },
  {
   "cell_type": "markdown",
   "id": "ad6883029f6d42cb",
   "metadata": {},
   "source": [
    "### Sorting Data"
   ]
  },
  {
   "cell_type": "code",
   "execution_count": 38,
   "id": "b8d5ef4fe64f4950",
   "metadata": {
    "ExecuteTime": {
     "end_time": "2025-02-09T07:55:40.690306Z",
     "start_time": "2025-02-09T07:55:40.682805Z"
    }
   },
   "outputs": [
    {
     "name": "stdout",
     "output_type": "stream",
     "text": [
      "       Name        Age  Salary\n",
      "3      Abhi  26.000000   45000\n",
      "5  Abhishek  26.000000   48000\n",
      "0     Akash  22.000000   60000\n",
      "2    Shivam  24.666667   50000\n",
      "1     Suraj  23.333333   45000\n",
      "4    Vikash  22.000000   54000\n"
     ]
    }
   ],
   "source": [
    "# df.sort_values(by=[\"Column_Name\"],ascending=False)\n",
    "\n",
    "df.sort_values(by=\"Name\",ascending=True,inplace=True)\n",
    "print(df)\n",
    "\n",
    "# df.sort_values(by=[\"Column1\",\"Column2\"],ascending=False,inplace=True)\n"
   ]
  },
  {
   "cell_type": "markdown",
   "id": "65afb0e296755346",
   "metadata": {},
   "source": [
    "### Aggregation Function."
   ]
  },
  {
   "cell_type": "code",
   "execution_count": 39,
   "id": "4c215d901af992c7",
   "metadata": {
    "ExecuteTime": {
     "end_time": "2025-02-09T07:55:44.375931Z",
     "start_time": "2025-02-09T07:55:44.371722Z"
    }
   },
   "outputs": [
    {
     "name": "stdout",
     "output_type": "stream",
     "text": [
      "24.0\n"
     ]
    }
   ],
   "source": [
    "# df[\"Column_Name\"].mean() :-  Find the Average of given value.\n",
    "# df[\"Column_Name\"].sum() :- Find the sum of al values present in column.\n",
    "# df[\"Column_Name\"].min() :- Find the minimum value of the column.\n",
    "# df[\"Column_Name\"].max() :- Find the maximum value of the column.\n",
    "# df[\"Column_Name\"].count() :- Find the count of the value.\n",
    "# df[\"Column_Name\"].std() :- Find the Standard Deviation of the value.\n",
    "\n",
    "\n",
    "# Find the Average Salary.\n",
    "\n",
    "avg_age=df[\"Age\"].mean()\n",
    "print(avg_age)"
   ]
  },
  {
   "cell_type": "markdown",
   "id": "c91d3a0b87ac099b",
   "metadata": {},
   "source": [
    "### Grouping in Pandas"
   ]
  },
  {
   "cell_type": "code",
   "execution_count": 40,
   "id": "9ce04ce206a57005",
   "metadata": {
    "ExecuteTime": {
     "end_time": "2025-02-09T08:02:00.497323Z",
     "start_time": "2025-02-09T08:02:00.475848Z"
    }
   },
   "outputs": [
    {
     "name": "stdout",
     "output_type": "stream",
     "text": [
      "       Name  Age  Salary\n",
      "0     Akash   22   60000\n",
      "1     Suraj   22   45000\n",
      "2    Shivam   21   50000\n",
      "3      Abhi   26   45000\n",
      "4    Vikash   22   54000\n",
      "5  Abhishek   26   48000\n",
      "Age\n",
      "21     50000\n",
      "22    159000\n",
      "26     93000\n",
      "Name: Salary, dtype: int64\n",
      "Age  Name    \n",
      "21   Shivam      50000\n",
      "22   Akash       60000\n",
      "     Suraj       45000\n",
      "     Vikash      54000\n",
      "26   Abhi        45000\n",
      "     Abhishek    48000\n",
      "Name: Salary, dtype: int64\n"
     ]
    }
   ],
   "source": [
    "data={\n",
    "    \"Name\":[\"Akash\",\"Suraj\",\"Shivam\",\"Abhi\",\"Vikash\",\"Abhishek\"],\n",
    "     \"Age\":[22,22,21,26,22,26],\n",
    "    \"Salary\":[60000,45000,50000,45000,54000,48000]\n",
    "}\n",
    "df=pd.DataFrame(data)\n",
    "print(df)\n",
    "\n",
    "\n",
    "# Single Value Group.\n",
    "\n",
    "grouped=df.groupby(\"Age\")['Salary'].sum()\n",
    "print(grouped)\n",
    "\n",
    "# Multiple Value Grouping.\n",
    "\n",
    "grouped1=df.groupby([\"Age\",\"Name\"])['Salary'].sum()\n",
    "print(grouped1)"
   ]
  },
  {
   "cell_type": "markdown",
   "id": "249947d2b8563005",
   "metadata": {},
   "source": [
    "### Merging and Joining the Datasets."
   ]
  },
  {
   "cell_type": "code",
   "execution_count": 41,
   "id": "baa1468e308acd31",
   "metadata": {
    "ExecuteTime": {
     "end_time": "2025-02-09T08:31:37.743396Z",
     "start_time": "2025-02-09T08:31:37.726545Z"
    }
   },
   "outputs": [
    {
     "name": "stdout",
     "output_type": "stream",
     "text": [
      "   cust_Id      Name  amount\n",
      "0        1     Akash   250.0\n",
      "1        2     Suraj   350.0\n",
      "2        3    Shivam   500.0\n",
      "3        4  Abhishek     NaN\n",
      "4        5    Vikash   450.0\n",
      "   cust_Id    Name  amount\n",
      "0        1   Akash     250\n",
      "1        2   Suraj     350\n",
      "2        3  Shivam     500\n",
      "3        5  Vikash     450\n",
      "4        6     NaN     750\n"
     ]
    }
   ],
   "source": [
    "# Merge Two Tables.\n",
    "\n",
    "# Create Customer Table.\n",
    "customer=pd.DataFrame({\n",
    "    \"cust_Id\":[1,2,3,4,5],\n",
    "    \"Name\":[\"Akash\",\"Suraj\",\"Shivam\",\"Abhishek\",\"Vikash\"]\n",
    "})\n",
    "\n",
    "# Create Order Table.\n",
    "order=pd.DataFrame({\n",
    "    \"cust_Id\":[1,2,3,5,6],\n",
    "    \"amount\":[250,350,500,450,750]\n",
    "})\n",
    "\n",
    "\n",
    "# Merging the Given Table.\n",
    "# merged=df.merge(\"Dataframe_Name\",how=\"Type of Join\",on=\"On the basis of merging the dataframe\")\n",
    "\n",
    "\n",
    "# Inner Join:- Print the Matching data of both Dataframe.\n",
    "# imerged=pd.merge(customer,order,on=\"cust_Id\",how=\"inner\")\n",
    "# print(imerged)\n",
    "\n",
    "\n",
    "# Outer Join:- Print the same and different both data of both Dataframe.\n",
    "# omerged=pd.merge(customer,order,on=\"cust_Id\",how=\"outer\")\n",
    "# print(omerged)\n",
    "\n",
    "\n",
    "# Left Join:- Print the all data of first dataframe and print the matching data of second Dataframe.\n",
    "lmerged=pd.merge(customer,order,on=\"cust_Id\",how=\"left\")\n",
    "print(lmerged)\n",
    "\n",
    "\n",
    "# Right Join:- Print the all data of second dataframe and print the matching data of first Dataframe.\n",
    "rmerged=pd.merge(customer,order,on=\"cust_Id\",how=\"right\")\n",
    "print(rmerged)\n",
    "\n",
    "\n",
    "# Cross Join:-  Print all the Possible pair.\n",
    "# cmerged=pd.merge(customer,order,on=\"cust_Id\",how=\"cross\")\n",
    "# print(cmerged)"
   ]
  },
  {
   "cell_type": "markdown",
   "id": "7802c4ca1aebaf28",
   "metadata": {},
   "source": [
    "#### Concatenation of Dataframe.\n",
    "\n",
    "- Vertically(Row-Wise)\n",
    "- Horizontally(Column-Wise)"
   ]
  },
  {
   "cell_type": "code",
   "execution_count": 42,
   "id": "ae9f32a1c3d779c9",
   "metadata": {
    "ExecuteTime": {
     "end_time": "2025-02-09T08:42:30.333692Z",
     "start_time": "2025-02-09T08:42:30.326528Z"
    }
   },
   "outputs": [
    {
     "name": "stdout",
     "output_type": "stream",
     "text": [
      "   Id      Name\n",
      "0   1     Akash\n",
      "1   2     Suraj\n",
      "2   3    Shivam\n",
      "0   4      Abhi\n",
      "1   5  Abhishek\n",
      "2   6    Vikash\n",
      "   Id    Name  Id      Name\n",
      "0   1   Akash   4      Abhi\n",
      "1   2   Suraj   5  Abhishek\n",
      "2   3  Shivam   6    Vikash\n"
     ]
    }
   ],
   "source": [
    "# cocatenated=pd.concat([\"Dataframe1\",\"Dataframe2\"],axis=0,ignore_index=True)\n",
    "\n",
    "region1=pd.DataFrame({\n",
    "    \"Id\":[1,2,3],\n",
    "    \"Name\":[\"Akash\",\"Suraj\",\"Shivam\"]\n",
    "})\n",
    "\n",
    "region2=pd.DataFrame({\n",
    "    \"Id\":[4,5,6],\n",
    "    \"Name\":[\"Abhi\",\"Abhishek\",\"Vikash\"]\n",
    "})\n",
    "\n",
    "# Concate Horizontally.\n",
    "hconcate=pd.concat([region1,region2],ignore_index=False)\n",
    "print(hconcate)\n",
    "\n",
    "\n",
    "# Concate Vertically.\n",
    "vconcate=pd.concat([region1,region2],axis=1,ignore_index=False)\n",
    "print(vconcate)"
   ]
  },
  {
   "cell_type": "code",
   "execution_count": null,
   "id": "23a1019ac93ac00e",
   "metadata": {},
   "outputs": [],
   "source": []
  },
  {
   "cell_type": "code",
   "execution_count": null,
   "id": "a10ad183-0d59-4527-a1c6-83f14f8d4a0b",
   "metadata": {},
   "outputs": [],
   "source": []
  }
 ],
 "metadata": {
  "kernelspec": {
   "display_name": "Python 3 (ipykernel)",
   "language": "python",
   "name": "python3"
  },
  "language_info": {
   "codemirror_mode": {
    "name": "ipython",
    "version": 3
   },
   "file_extension": ".py",
   "mimetype": "text/x-python",
   "name": "python",
   "nbconvert_exporter": "python",
   "pygments_lexer": "ipython3",
   "version": "3.13.0"
  }
 },
 "nbformat": 4,
 "nbformat_minor": 5
}
